{
 "cells": [
  {
   "cell_type": "code",
   "execution_count": 5,
   "metadata": {},
   "outputs": [
    {
     "name": "stderr",
     "output_type": "stream",
     "text": [
      "C:\\Users\\Eliza\\Anaconda3\\lib\\site-packages\\IPython\\core\\interactiveshell.py:3058: DtypeWarning: Columns (58,64,66,67,73,74,78,79,82,87,93,96,97,100,103) have mixed types. Specify dtype option on import or set low_memory=False.\n",
      "  interactivity=interactivity, compiler=compiler, result=result)\n"
     ]
    }
   ],
   "source": [
    "#Import Hamilton County voter data file pulled from https://www6.sos.state.oh.us/ords/f?p=111:1\n",
    "import pandas as pd\n",
    "hc_full = pd.read_csv('../HAMILTON.txt')"
   ]
  },
  {
   "cell_type": "code",
   "execution_count": 6,
   "metadata": {
    "scrolled": false
   },
   "outputs": [],
   "source": [
    "geocoding_columns = ['SOS_VOTERID', 'RESIDENTIAL_ADDRESS1',  'RESIDENTIAL_CITY',\n",
    " 'RESIDENTIAL_STATE', 'RESIDENTIAL_ZIP']\n",
    "\n",
    "geocode_subset = hc_full[geocoding_columns]"
   ]
  },
  {
   "cell_type": "code",
   "execution_count": 7,
   "metadata": {},
   "outputs": [
    {
     "name": "stdout",
     "output_type": "stream",
     "text": [
      "Your dataframe has 5 columns and 574834 Rows.\n",
      "There are 0 columns that have missing values.\n"
     ]
    },
    {
     "data": {
      "text/html": [
       "<div>\n",
       "<style scoped>\n",
       "    .dataframe tbody tr th:only-of-type {\n",
       "        vertical-align: middle;\n",
       "    }\n",
       "\n",
       "    .dataframe tbody tr th {\n",
       "        vertical-align: top;\n",
       "    }\n",
       "\n",
       "    .dataframe thead th {\n",
       "        text-align: right;\n",
       "    }\n",
       "</style>\n",
       "<table border=\"1\" class=\"dataframe\">\n",
       "  <thead>\n",
       "    <tr style=\"text-align: right;\">\n",
       "      <th></th>\n",
       "      <th>Missing Values</th>\n",
       "      <th>% of Total Values</th>\n",
       "      <th>Data Type</th>\n",
       "    </tr>\n",
       "  </thead>\n",
       "  <tbody>\n",
       "  </tbody>\n",
       "</table>\n",
       "</div>"
      ],
      "text/plain": [
       "Empty DataFrame\n",
       "Columns: [Missing Values, % of Total Values, Data Type]\n",
       "Index: []"
      ]
     },
     "execution_count": 7,
     "metadata": {},
     "output_type": "execute_result"
    }
   ],
   "source": [
    "#Count the number of NaN entries for each column & percent of total\n",
    "def missing_table(df):\n",
    "        mis_val = df.isna().sum()\n",
    "        mis_val_percent = 100 * df.isna().sum() / len(df)\n",
    "        mz_table = pd.concat([mis_val, mis_val_percent], axis=1)\n",
    "        mz_table = mz_table.rename(columns = {0 : 'Missing Values', 1 : '% of Total Values'})\n",
    "        mz_table['Data Type'] = df.dtypes\n",
    "        mz_table = mz_table[\n",
    "            mz_table.iloc[:,1] != 0].sort_values(\n",
    "        '% of Total Values', ascending=False).round(1)\n",
    "        print (\"Your dataframe has \" + str(df.shape[1]) + \" columns and \" + str(df.shape[0]) + \" Rows.\\n\"      \n",
    "            \"There are \" + str(mz_table.shape[0]) +\n",
    "              \" columns that have missing values.\")\n",
    "        return mz_table\n",
    "\n",
    "mt = missing_table(geocode_subset)\n",
    "mt"
   ]
  },
  {
   "cell_type": "code",
   "execution_count": 9,
   "metadata": {},
   "outputs": [
    {
     "data": {
      "text/html": [
       "<div>\n",
       "<style scoped>\n",
       "    .dataframe tbody tr th:only-of-type {\n",
       "        vertical-align: middle;\n",
       "    }\n",
       "\n",
       "    .dataframe tbody tr th {\n",
       "        vertical-align: top;\n",
       "    }\n",
       "\n",
       "    .dataframe thead th {\n",
       "        text-align: right;\n",
       "    }\n",
       "</style>\n",
       "<table border=\"1\" class=\"dataframe\">\n",
       "  <thead>\n",
       "    <tr style=\"text-align: right;\">\n",
       "      <th></th>\n",
       "      <th>SOS_VOTERID</th>\n",
       "      <th>RESIDENTIAL_ADDRESS1</th>\n",
       "      <th>RESIDENTIAL_CITY</th>\n",
       "      <th>RESIDENTIAL_STATE</th>\n",
       "      <th>RESIDENTIAL_ZIP</th>\n",
       "    </tr>\n",
       "  </thead>\n",
       "  <tbody>\n",
       "    <tr>\n",
       "      <td>0</td>\n",
       "      <td>OH0013910067</td>\n",
       "      <td>1672 DEVILS BACKBONE RD</td>\n",
       "      <td>CINCINNATI</td>\n",
       "      <td>OH</td>\n",
       "      <td>45233</td>\n",
       "    </tr>\n",
       "    <tr>\n",
       "      <td>1</td>\n",
       "      <td>OH0013638654</td>\n",
       "      <td>1448 FIELDCREST CT</td>\n",
       "      <td>CINCINNATI</td>\n",
       "      <td>OH</td>\n",
       "      <td>45231</td>\n",
       "    </tr>\n",
       "    <tr>\n",
       "      <td>2</td>\n",
       "      <td>OH0013744969</td>\n",
       "      <td>7206 MIAMI HILLS DR</td>\n",
       "      <td>CINCINNATI</td>\n",
       "      <td>OH</td>\n",
       "      <td>45243</td>\n",
       "    </tr>\n",
       "    <tr>\n",
       "      <td>3</td>\n",
       "      <td>OH0020648383</td>\n",
       "      <td>11606 HANOVER RD</td>\n",
       "      <td>CINCINNATI</td>\n",
       "      <td>OH</td>\n",
       "      <td>45240</td>\n",
       "    </tr>\n",
       "    <tr>\n",
       "      <td>4</td>\n",
       "      <td>OH0021001272</td>\n",
       "      <td>7822 MITCHELL PARK DR</td>\n",
       "      <td>CLEVES</td>\n",
       "      <td>OH</td>\n",
       "      <td>45002</td>\n",
       "    </tr>\n",
       "  </tbody>\n",
       "</table>\n",
       "</div>"
      ],
      "text/plain": [
       "    SOS_VOTERID     RESIDENTIAL_ADDRESS1 RESIDENTIAL_CITY RESIDENTIAL_STATE  \\\n",
       "0  OH0013910067  1672 DEVILS BACKBONE RD       CINCINNATI                OH   \n",
       "1  OH0013638654       1448 FIELDCREST CT       CINCINNATI                OH   \n",
       "2  OH0013744969      7206 MIAMI HILLS DR       CINCINNATI                OH   \n",
       "3  OH0020648383         11606 HANOVER RD       CINCINNATI                OH   \n",
       "4  OH0021001272    7822 MITCHELL PARK DR           CLEVES                OH   \n",
       "\n",
       "   RESIDENTIAL_ZIP  \n",
       "0            45233  \n",
       "1            45231  \n",
       "2            45243  \n",
       "3            45240  \n",
       "4            45002  "
      ]
     },
     "execution_count": 9,
     "metadata": {},
     "output_type": "execute_result"
    }
   ],
   "source": [
    "geocode_subset.head()"
   ]
  },
  {
   "cell_type": "code",
   "execution_count": 11,
   "metadata": {},
   "outputs": [
    {
     "data": {
      "text/plain": [
       "RESIDENTIAL_CITY\n",
       "ADDYSTON            527\n",
       "CAMP DENNISON       293\n",
       "CINCINNATI       534163\n",
       "CLEVES             9649\n",
       "HAMILTON             26\n",
       "HARRISON          13614\n",
       "HOOVEN              188\n",
       "LOVELAND          11142\n",
       "MIAMITOWN            76\n",
       "MILFORD              13\n",
       "MT ST JOSEPH        161\n",
       "NORTH BEND         3163\n",
       "TERRACE PARK       1819\n",
       "dtype: int64"
      ]
     },
     "execution_count": 11,
     "metadata": {},
     "output_type": "execute_result"
    }
   ],
   "source": [
    "#A little data exploration\n",
    "geocode_subset.groupby(['RESIDENTIAL_CITY']).size()"
   ]
  },
  {
   "cell_type": "code",
   "execution_count": 12,
   "metadata": {},
   "outputs": [
    {
     "data": {
      "text/plain": [
       "RESIDENTIAL_STATE\n",
       "OH    574834\n",
       "dtype: int64"
      ]
     },
     "execution_count": 12,
     "metadata": {},
     "output_type": "execute_result"
    }
   ],
   "source": [
    "geocode_subset.groupby(['RESIDENTIAL_STATE']).size()"
   ]
  },
  {
   "cell_type": "code",
   "execution_count": 15,
   "metadata": {},
   "outputs": [
    {
     "data": {
      "text/plain": [
       "238280"
      ]
     },
     "execution_count": 15,
     "metadata": {},
     "output_type": "execute_result"
    }
   ],
   "source": [
    "#save some time by only geocoding unique addresses - since multiple people can live at the same address\n",
    "gc_unique = geocode_subset.drop(columns='SOS_VOTERID').drop_duplicates()\n",
    "gc_unique.shape[0]"
   ]
  },
  {
   "cell_type": "code",
   "execution_count": 23,
   "metadata": {
    "scrolled": true
   },
   "outputs": [
    {
     "data": {
      "text/html": [
       "<div>\n",
       "<style scoped>\n",
       "    .dataframe tbody tr th:only-of-type {\n",
       "        vertical-align: middle;\n",
       "    }\n",
       "\n",
       "    .dataframe tbody tr th {\n",
       "        vertical-align: top;\n",
       "    }\n",
       "\n",
       "    .dataframe thead th {\n",
       "        text-align: right;\n",
       "    }\n",
       "</style>\n",
       "<table border=\"1\" class=\"dataframe\">\n",
       "  <thead>\n",
       "    <tr style=\"text-align: right;\">\n",
       "      <th></th>\n",
       "      <th>RESIDENTIAL_ADDRESS1</th>\n",
       "      <th>RESIDENTIAL_CITY</th>\n",
       "      <th>RESIDENTIAL_STATE</th>\n",
       "      <th>RESIDENTIAL_ZIP</th>\n",
       "    </tr>\n",
       "  </thead>\n",
       "  <tbody>\n",
       "    <tr>\n",
       "      <td>0</td>\n",
       "      <td>1672 DEVILS BACKBONE RD</td>\n",
       "      <td>CINCINNATI</td>\n",
       "      <td>OH</td>\n",
       "      <td>45233</td>\n",
       "    </tr>\n",
       "    <tr>\n",
       "      <td>1</td>\n",
       "      <td>1448 FIELDCREST CT</td>\n",
       "      <td>CINCINNATI</td>\n",
       "      <td>OH</td>\n",
       "      <td>45231</td>\n",
       "    </tr>\n",
       "    <tr>\n",
       "      <td>2</td>\n",
       "      <td>7206 MIAMI HILLS DR</td>\n",
       "      <td>CINCINNATI</td>\n",
       "      <td>OH</td>\n",
       "      <td>45243</td>\n",
       "    </tr>\n",
       "    <tr>\n",
       "      <td>3</td>\n",
       "      <td>11606 HANOVER RD</td>\n",
       "      <td>CINCINNATI</td>\n",
       "      <td>OH</td>\n",
       "      <td>45240</td>\n",
       "    </tr>\n",
       "    <tr>\n",
       "      <td>4</td>\n",
       "      <td>7822 MITCHELL PARK DR</td>\n",
       "      <td>CLEVES</td>\n",
       "      <td>OH</td>\n",
       "      <td>45002</td>\n",
       "    </tr>\n",
       "  </tbody>\n",
       "</table>\n",
       "</div>"
      ],
      "text/plain": [
       "      RESIDENTIAL_ADDRESS1 RESIDENTIAL_CITY RESIDENTIAL_STATE  RESIDENTIAL_ZIP\n",
       "0  1672 DEVILS BACKBONE RD       CINCINNATI                OH            45233\n",
       "1       1448 FIELDCREST CT       CINCINNATI                OH            45231\n",
       "2      7206 MIAMI HILLS DR       CINCINNATI                OH            45243\n",
       "3         11606 HANOVER RD       CINCINNATI                OH            45240\n",
       "4    7822 MITCHELL PARK DR           CLEVES                OH            45002"
      ]
     },
     "execution_count": 23,
     "metadata": {},
     "output_type": "execute_result"
    }
   ],
   "source": [
    "#create a new index for each unique address\n",
    "gc = gc_unique.reset_index().drop(columns='index')\n",
    "gc.head()"
   ]
  },
  {
   "cell_type": "code",
   "execution_count": 27,
   "metadata": {},
   "outputs": [],
   "source": [
    "#test batch of 2000\n",
    "test = gc.iloc[0:1999]\n",
    "test.to_csv('../test.csv', header=False)"
   ]
  },
  {
   "cell_type": "code",
   "execution_count": 21,
   "metadata": {},
   "outputs": [],
   "source": [
    "#Test api call & return\n",
    "import requests\n",
    "\n",
    "input_file = '../test.csv'\n",
    "output_file = '../codedtest.csv'\n",
    "\n",
    "url = 'https://geocoding.geo.census.gov/geocoder/geographies/addressbatch'\n",
    "files = {'file': open(input_file, 'rb')}\n",
    "keywords = {'benchmark': 'Public_AR_Census2010', 'vintage': 'Census2010_Census2010'}\n",
    "#layers : 14\n",
    "#format: json\n",
    "r = requests.get(url, data=keywords, files=files)"
   ]
  },
  {
   "cell_type": "code",
   "execution_count": 22,
   "metadata": {},
   "outputs": [
    {
     "data": {
      "text/plain": [
       "'Parameter conditions &quot;form&quot; not met for actual request parameters: '"
      ]
     },
     "execution_count": 22,
     "metadata": {},
     "output_type": "execute_result"
    }
   ],
   "source": [
    "r.text"
   ]
  },
  {
   "cell_type": "code",
   "execution_count": 19,
   "metadata": {},
   "outputs": [
    {
     "data": {
      "text/plain": [
       "0    street=1672 DEVILS BACKBONE RD&city=CINCINNATI...\n",
       "1    street=1448 FIELDCREST CT&city=CINCINNATI&stat...\n",
       "2    street=7206 MIAMI HILLS DR&city=CINCINNATI&sta...\n",
       "3    street=11606 HANOVER RD&city=CINCINNATI&state=...\n",
       "4    street=7822 MITCHELL PARK DR&city=CLEVES&state...\n",
       "Name: API_STRING, dtype: object"
      ]
     },
     "execution_count": 19,
     "metadata": {},
     "output_type": "execute_result"
    }
   ],
   "source": [
    "#I am going to create a column that contains all address info needed by API\n",
    "gc_unique['API_STRING']='street='+gc_unique['RESIDENTIAL_ADDRESS1']+'&city='+gc_unique['RESIDENTIAL_CITY']+'&state='+gc_unique['RESIDENTIAL_STATE']+'&zip='+gc_unique['RESIDENTIAL_ZIP'].astype(str)\n",
    "gc_unique['API_STRING'].head()"
   ]
  },
  {
   "cell_type": "code",
   "execution_count": 21,
   "metadata": {},
   "outputs": [
    {
     "data": {
      "text/plain": [
       "0    street=1672+DEVILS+BACKBONE+RD&city=CINCINNATI...\n",
       "1    street=1448+FIELDCREST+CT&city=CINCINNATI&stat...\n",
       "2    street=7206+MIAMI+HILLS+DR&city=CINCINNATI&sta...\n",
       "3    street=11606+HANOVER+RD&city=CINCINNATI&state=...\n",
       "4    street=7822+MITCHELL+PARK+DR&city=CLEVES&state...\n",
       "Name: API_NOSPACE, dtype: object"
      ]
     },
     "execution_count": 21,
     "metadata": {},
     "output_type": "execute_result"
    }
   ],
   "source": [
    "gc_unique['API_NOSPACE']=gc_unique['API_STRING'].str.replace(\" \", \"+\")\n",
    "gc_unique['API_NOSPACE'].head()"
   ]
  },
  {
   "cell_type": "code",
   "execution_count": 24,
   "metadata": {},
   "outputs": [
    {
     "data": {
      "text/plain": [
       "'street=1672+DEVILS+BACKBONE+RD&city=CINCINNATI&state=OH&zip=45233'"
      ]
     },
     "execution_count": 24,
     "metadata": {},
     "output_type": "execute_result"
    }
   ],
   "source": [
    "#Create address list & a test string\n",
    "a_list = gc_unique['API_NOSPACE'].to_list()\n",
    "test_string = a_list[0]\n",
    "test_string"
   ]
  },
  {
   "cell_type": "code",
   "execution_count": 50,
   "metadata": {},
   "outputs": [
    {
     "name": "stdout",
     "output_type": "stream",
     "text": [
      "{\n",
      "    \"result\": {\n",
      "        \"addressMatches\": [\n",
      "            {\n",
      "                \"addressComponents\": {\n",
      "                    \"city\": \"CINCINNATI\",\n",
      "                    \"fromAddress\": \"1666\",\n",
      "                    \"preDirection\": \"\",\n",
      "                    \"preQualifier\": \"\",\n",
      "                    \"preType\": \"\",\n",
      "                    \"state\": \"OH\",\n",
      "                    \"streetName\": \"Devils Backbone\",\n",
      "                    \"suffixDirection\": \"\",\n",
      "                    \"suffixQualifier\": \"\",\n",
      "                    \"suffixType\": \"Rd\",\n",
      "                    \"toAddress\": \"1698\",\n",
      "                    \"zip\": \"45233\"\n",
      "                },\n",
      "                \"coordinates\": {\n",
      "                    \"x\": -84.65108,\n",
      "                    \"y\": 39.125805\n",
      "                },\n",
      "                \"geographies\": {\n",
      "                    \"Census Blocks\": [\n",
      "                        {\n",
      "                            \"AREALAND\": 494474,\n",
      "                            \"AREAWATER\": 0,\n",
      "                            \"BASENAME\": \"2003\",\n",
      "                            \"BLKGRP\": \"2\",\n",
      "                            \"BLOCK\": \"2003\",\n",
      "                            \"CENTLAT\": \"+39.1290540\",\n",
      "                            \"CENTLON\": \"-084.6489884\",\n",
      "                            \"COUNTY\": \"061\",\n",
      "                            \"FUNCSTAT\": \"S\",\n",
      "                            \"GEOID\": \"390610212012003\",\n",
      "                            \"HU100\": 167,\n",
      "                            \"INTPTLAT\": \"+39.1290540\",\n",
      "                            \"INTPTLON\": \"-084.6489884\",\n",
      "                            \"LSADC\": \"BK\",\n",
      "                            \"LWBLKTYP\": \"L\",\n",
      "                            \"MTFCC\": \"G5040\",\n",
      "                            \"NAME\": \"Block 2003\",\n",
      "                            \"OBJECTID\": 7411091,\n",
      "                            \"OID\": 210404233061967,\n",
      "                            \"POP100\": 427,\n",
      "                            \"STATE\": \"39\",\n",
      "                            \"SUFFIX\": \"\",\n",
      "                            \"TRACT\": \"021201\",\n",
      "                            \"UR\": \"\"\n",
      "                        }\n",
      "                    ]\n",
      "                },\n",
      "                \"matchedAddress\": \"1672 Devils Backbone Rd, CINCINNATI, OH, 45233\",\n",
      "                \"tigerLine\": {\n",
      "                    \"side\": \"R\",\n",
      "                    \"tigerLineId\": \"103952937\"\n",
      "                }\n",
      "            }\n",
      "        ],\n",
      "        \"input\": {\n",
      "            \"address\": {\n",
      "                \"city\": \"CINCINNATI\",\n",
      "                \"state\": \"OH\",\n",
      "                \"street\": \"1672 DEVILS BACKBONE RD\",\n",
      "                \"zip\": \"45233\"\n",
      "            },\n",
      "            \"benchmark\": {\n",
      "                \"benchmarkDescription\": \"Public Address Ranges - Census 2010 Benchmark\",\n",
      "                \"benchmarkName\": \"Public_AR_Census2010\",\n",
      "                \"id\": \"9\",\n",
      "                \"isDefault\": false\n",
      "            },\n",
      "            \"vintage\": {\n",
      "                \"id\": \"910\",\n",
      "                \"isDefault\": true,\n",
      "                \"vintageDescription\": \"Census2010 Vintage - Census2010 Benchmark\",\n",
      "                \"vintageName\": \"Census2010_Census2010\"\n",
      "            }\n",
      "        }\n",
      "    }\n",
      "}\n"
     ]
    }
   ],
   "source": [
    "#Test api call & return\n",
    "#reference - https://towardsdatascience.com/creating-a-dataset-using-an-api-with-python-dcc1607616d\n",
    "import numpy as np\n",
    "import requests\n",
    "import json\n",
    "url = \"https://geocoding.geo.census.gov/geocoder/geographies/address?\"+test_string+\"&benchmark=Public_AR_Census2010&vintage=Census2010_Census2010&layers=14&format=json\"\n",
    "JSONContent = requests.get(url).json()\n",
    "content = json.dumps(JSONContent, indent = 4, sort_keys=True)\n",
    "print(content)"
   ]
  },
  {
   "cell_type": "code",
   "execution_count": 75,
   "metadata": {},
   "outputs": [
    {
     "data": {
      "text/plain": [
       "'2003'"
      ]
     },
     "execution_count": 75,
     "metadata": {},
     "output_type": "execute_result"
    }
   ],
   "source": [
    "JSONContent['result']['addressMatches'][0]['geographies']['Census Blocks'][0]['BLOCK']"
   ]
  },
  {
   "cell_type": "code",
   "execution_count": 86,
   "metadata": {},
   "outputs": [],
   "source": [
    "#I want to try a batch of 100 just to check things out before I have this run for a while\n",
    "\n",
    "a_list100 = a_list[:99]\n",
    "results_list = []\n",
    "\n",
    "for i in a_list100:\n",
    "    url = \"https://geocoding.geo.census.gov/geocoder/geographies/address?\"+i+\"&benchmark=Public_AR_Census2010&vintage=Census2010_Census2010&layers=14&format=json\"\n",
    "    JSONContent = requests.get(url).json()\n",
    "    if 'error' not in JSONContent:\n",
    "        match = JSONContent['result']['addressMatches']\n",
    "        for a in match:\n",
    "            x = a['coordinates']['x']\n",
    "            y = a['coordinates']['y']\n",
    "            matchedAddress = a['matchedAddress']\n",
    "            census = a['geographies']['Census Blocks']\n",
    "            for c in census:\n",
    "                block = c['BLOCK']\n",
    "                tract = c['TRACT']\n",
    "                results_list.append([x, y, matchedAddress, block, tract])\n",
    "dataset = pd.DataFrame(results_list)"
   ]
  },
  {
   "cell_type": "code",
   "execution_count": 87,
   "metadata": {},
   "outputs": [
    {
     "data": {
      "text/html": [
       "<div>\n",
       "<style scoped>\n",
       "    .dataframe tbody tr th:only-of-type {\n",
       "        vertical-align: middle;\n",
       "    }\n",
       "\n",
       "    .dataframe tbody tr th {\n",
       "        vertical-align: top;\n",
       "    }\n",
       "\n",
       "    .dataframe thead th {\n",
       "        text-align: right;\n",
       "    }\n",
       "</style>\n",
       "<table border=\"1\" class=\"dataframe\">\n",
       "  <thead>\n",
       "    <tr style=\"text-align: right;\">\n",
       "      <th></th>\n",
       "      <th>0</th>\n",
       "      <th>1</th>\n",
       "      <th>2</th>\n",
       "      <th>3</th>\n",
       "      <th>4</th>\n",
       "    </tr>\n",
       "  </thead>\n",
       "  <tbody>\n",
       "    <tr>\n",
       "      <td>0</td>\n",
       "      <td>-84.651080</td>\n",
       "      <td>39.125805</td>\n",
       "      <td>1672 Devils Backbone Rd, CINCINNATI, OH, 45233</td>\n",
       "      <td>2003</td>\n",
       "      <td>021201</td>\n",
       "    </tr>\n",
       "    <tr>\n",
       "      <td>1</td>\n",
       "      <td>-84.369520</td>\n",
       "      <td>39.195637</td>\n",
       "      <td>7206 Miami Hills Dr, CINCINNATI, OH, 45243</td>\n",
       "      <td>4005</td>\n",
       "      <td>024100</td>\n",
       "    </tr>\n",
       "    <tr>\n",
       "      <td>2</td>\n",
       "      <td>-84.511220</td>\n",
       "      <td>39.290646</td>\n",
       "      <td>11606 Hanover Rd, CINCINNATI, OH, 45240</td>\n",
       "      <td>3006</td>\n",
       "      <td>021506</td>\n",
       "    </tr>\n",
       "    <tr>\n",
       "      <td>3</td>\n",
       "      <td>-84.700990</td>\n",
       "      <td>39.177185</td>\n",
       "      <td>7822 Mitchell Park Dr, CLEVES, OH, 45002</td>\n",
       "      <td>3002</td>\n",
       "      <td>020403</td>\n",
       "    </tr>\n",
       "    <tr>\n",
       "      <td>4</td>\n",
       "      <td>-84.797714</td>\n",
       "      <td>39.249740</td>\n",
       "      <td>447 Lyness Ave, HARRISON, OH, 45030</td>\n",
       "      <td>4003</td>\n",
       "      <td>026101</td>\n",
       "    </tr>\n",
       "    <tr>\n",
       "      <td>...</td>\n",
       "      <td>...</td>\n",
       "      <td>...</td>\n",
       "      <td>...</td>\n",
       "      <td>...</td>\n",
       "      <td>...</td>\n",
       "    </tr>\n",
       "    <tr>\n",
       "      <td>88</td>\n",
       "      <td>-84.316900</td>\n",
       "      <td>39.086082</td>\n",
       "      <td>8521 Holidayhills Dr, CINCINNATI, OH, 45255</td>\n",
       "      <td>1002</td>\n",
       "      <td>025102</td>\n",
       "    </tr>\n",
       "    <tr>\n",
       "      <td>89</td>\n",
       "      <td>-84.616680</td>\n",
       "      <td>39.138218</td>\n",
       "      <td>3416 Lumardo Ave, CINCINNATI, OH, 45238</td>\n",
       "      <td>3009</td>\n",
       "      <td>010201</td>\n",
       "    </tr>\n",
       "    <tr>\n",
       "      <td>90</td>\n",
       "      <td>-84.564920</td>\n",
       "      <td>39.105946</td>\n",
       "      <td>3316 W 8th St, CINCINNATI, OH, 45205</td>\n",
       "      <td>3005</td>\n",
       "      <td>009300</td>\n",
       "    </tr>\n",
       "    <tr>\n",
       "      <td>91</td>\n",
       "      <td>-84.359055</td>\n",
       "      <td>39.232410</td>\n",
       "      <td>9701 Zig Zag Rd, CINCINNATI, OH, 45242</td>\n",
       "      <td>4002</td>\n",
       "      <td>023902</td>\n",
       "    </tr>\n",
       "    <tr>\n",
       "      <td>92</td>\n",
       "      <td>-84.554010</td>\n",
       "      <td>39.138050</td>\n",
       "      <td>1741 Bleecker Ln, CINCINNATI, OH, 45225</td>\n",
       "      <td>4000</td>\n",
       "      <td>008601</td>\n",
       "    </tr>\n",
       "  </tbody>\n",
       "</table>\n",
       "<p>93 rows × 5 columns</p>\n",
       "</div>"
      ],
      "text/plain": [
       "            0          1                                               2  \\\n",
       "0  -84.651080  39.125805  1672 Devils Backbone Rd, CINCINNATI, OH, 45233   \n",
       "1  -84.369520  39.195637      7206 Miami Hills Dr, CINCINNATI, OH, 45243   \n",
       "2  -84.511220  39.290646         11606 Hanover Rd, CINCINNATI, OH, 45240   \n",
       "3  -84.700990  39.177185        7822 Mitchell Park Dr, CLEVES, OH, 45002   \n",
       "4  -84.797714  39.249740             447 Lyness Ave, HARRISON, OH, 45030   \n",
       "..        ...        ...                                             ...   \n",
       "88 -84.316900  39.086082     8521 Holidayhills Dr, CINCINNATI, OH, 45255   \n",
       "89 -84.616680  39.138218         3416 Lumardo Ave, CINCINNATI, OH, 45238   \n",
       "90 -84.564920  39.105946            3316 W 8th St, CINCINNATI, OH, 45205   \n",
       "91 -84.359055  39.232410          9701 Zig Zag Rd, CINCINNATI, OH, 45242   \n",
       "92 -84.554010  39.138050         1741 Bleecker Ln, CINCINNATI, OH, 45225   \n",
       "\n",
       "       3       4  \n",
       "0   2003  021201  \n",
       "1   4005  024100  \n",
       "2   3006  021506  \n",
       "3   3002  020403  \n",
       "4   4003  026101  \n",
       "..   ...     ...  \n",
       "88  1002  025102  \n",
       "89  3009  010201  \n",
       "90  3005  009300  \n",
       "91  4002  023902  \n",
       "92  4000  008601  \n",
       "\n",
       "[93 rows x 5 columns]"
      ]
     },
     "execution_count": 87,
     "metadata": {},
     "output_type": "execute_result"
    }
   ],
   "source": [
    "dataset\n",
    "#so some of these address are obviously not matching - I need to store these somehow\n",
    "#I also want to make the code above into a function"
   ]
  },
  {
   "cell_type": "code",
   "execution_count": 96,
   "metadata": {},
   "outputs": [],
   "source": [
    "def geocoder(clist):\n",
    "    results_list=[]\n",
    "    errors_list=[]\n",
    "    for i in clist:\n",
    "        url = \"https://geocoding.geo.census.gov/geocoder/geographies/address?\"+i+\"&benchmark=Public_AR_Census2010&vintage=Census2010_Census2010&layers=14&format=json\"\n",
    "        JSONContent = requests.get(url).json()\n",
    "        if 'error' not in JSONContent:\n",
    "            match = JSONContent['result']['addressMatches']\n",
    "            for a in match:\n",
    "                x = a['coordinates']['x']\n",
    "                y = a['coordinates']['y']\n",
    "                matchedAddress = a['matchedAddress']\n",
    "                census = a['geographies']['Census Blocks']\n",
    "                for c in census:\n",
    "                    block = c['BLOCK']\n",
    "                    tract = c['TRACT']\n",
    "                    results_list.append([x, y, matchedAddress, block, tract])\n",
    "        else:\n",
    "            errors_list.append([i])\n",
    "    output = pd.DataFrame(results_list)\n",
    "    output_errors = pd.DataFrame(errors_list)\n",
    "    return output, output_errors"
   ]
  },
  {
   "cell_type": "code",
   "execution_count": 97,
   "metadata": {},
   "outputs": [],
   "source": [
    "a_list100 = a_list[:99]\n",
    "out1, error1 = geocoder(a_list100)"
   ]
  },
  {
   "cell_type": "code",
   "execution_count": 98,
   "metadata": {},
   "outputs": [
    {
     "data": {
      "text/html": [
       "<div>\n",
       "<style scoped>\n",
       "    .dataframe tbody tr th:only-of-type {\n",
       "        vertical-align: middle;\n",
       "    }\n",
       "\n",
       "    .dataframe tbody tr th {\n",
       "        vertical-align: top;\n",
       "    }\n",
       "\n",
       "    .dataframe thead th {\n",
       "        text-align: right;\n",
       "    }\n",
       "</style>\n",
       "<table border=\"1\" class=\"dataframe\">\n",
       "  <thead>\n",
       "    <tr style=\"text-align: right;\">\n",
       "      <th></th>\n",
       "      <th>0</th>\n",
       "      <th>1</th>\n",
       "      <th>2</th>\n",
       "      <th>3</th>\n",
       "      <th>4</th>\n",
       "    </tr>\n",
       "  </thead>\n",
       "  <tbody>\n",
       "    <tr>\n",
       "      <td>0</td>\n",
       "      <td>-84.651080</td>\n",
       "      <td>39.125805</td>\n",
       "      <td>1672 Devils Backbone Rd, CINCINNATI, OH, 45233</td>\n",
       "      <td>2003</td>\n",
       "      <td>021201</td>\n",
       "    </tr>\n",
       "    <tr>\n",
       "      <td>1</td>\n",
       "      <td>-84.369520</td>\n",
       "      <td>39.195637</td>\n",
       "      <td>7206 Miami Hills Dr, CINCINNATI, OH, 45243</td>\n",
       "      <td>4005</td>\n",
       "      <td>024100</td>\n",
       "    </tr>\n",
       "    <tr>\n",
       "      <td>2</td>\n",
       "      <td>-84.511220</td>\n",
       "      <td>39.290646</td>\n",
       "      <td>11606 Hanover Rd, CINCINNATI, OH, 45240</td>\n",
       "      <td>3006</td>\n",
       "      <td>021506</td>\n",
       "    </tr>\n",
       "    <tr>\n",
       "      <td>3</td>\n",
       "      <td>-84.700990</td>\n",
       "      <td>39.177185</td>\n",
       "      <td>7822 Mitchell Park Dr, CLEVES, OH, 45002</td>\n",
       "      <td>3002</td>\n",
       "      <td>020403</td>\n",
       "    </tr>\n",
       "    <tr>\n",
       "      <td>4</td>\n",
       "      <td>-84.797714</td>\n",
       "      <td>39.249740</td>\n",
       "      <td>447 Lyness Ave, HARRISON, OH, 45030</td>\n",
       "      <td>4003</td>\n",
       "      <td>026101</td>\n",
       "    </tr>\n",
       "    <tr>\n",
       "      <td>...</td>\n",
       "      <td>...</td>\n",
       "      <td>...</td>\n",
       "      <td>...</td>\n",
       "      <td>...</td>\n",
       "      <td>...</td>\n",
       "    </tr>\n",
       "    <tr>\n",
       "      <td>88</td>\n",
       "      <td>-84.316900</td>\n",
       "      <td>39.086082</td>\n",
       "      <td>8521 Holidayhills Dr, CINCINNATI, OH, 45255</td>\n",
       "      <td>1002</td>\n",
       "      <td>025102</td>\n",
       "    </tr>\n",
       "    <tr>\n",
       "      <td>89</td>\n",
       "      <td>-84.616680</td>\n",
       "      <td>39.138218</td>\n",
       "      <td>3416 Lumardo Ave, CINCINNATI, OH, 45238</td>\n",
       "      <td>3009</td>\n",
       "      <td>010201</td>\n",
       "    </tr>\n",
       "    <tr>\n",
       "      <td>90</td>\n",
       "      <td>-84.564920</td>\n",
       "      <td>39.105946</td>\n",
       "      <td>3316 W 8th St, CINCINNATI, OH, 45205</td>\n",
       "      <td>3005</td>\n",
       "      <td>009300</td>\n",
       "    </tr>\n",
       "    <tr>\n",
       "      <td>91</td>\n",
       "      <td>-84.359055</td>\n",
       "      <td>39.232410</td>\n",
       "      <td>9701 Zig Zag Rd, CINCINNATI, OH, 45242</td>\n",
       "      <td>4002</td>\n",
       "      <td>023902</td>\n",
       "    </tr>\n",
       "    <tr>\n",
       "      <td>92</td>\n",
       "      <td>-84.554010</td>\n",
       "      <td>39.138050</td>\n",
       "      <td>1741 Bleecker Ln, CINCINNATI, OH, 45225</td>\n",
       "      <td>4000</td>\n",
       "      <td>008601</td>\n",
       "    </tr>\n",
       "  </tbody>\n",
       "</table>\n",
       "<p>93 rows × 5 columns</p>\n",
       "</div>"
      ],
      "text/plain": [
       "            0          1                                               2  \\\n",
       "0  -84.651080  39.125805  1672 Devils Backbone Rd, CINCINNATI, OH, 45233   \n",
       "1  -84.369520  39.195637      7206 Miami Hills Dr, CINCINNATI, OH, 45243   \n",
       "2  -84.511220  39.290646         11606 Hanover Rd, CINCINNATI, OH, 45240   \n",
       "3  -84.700990  39.177185        7822 Mitchell Park Dr, CLEVES, OH, 45002   \n",
       "4  -84.797714  39.249740             447 Lyness Ave, HARRISON, OH, 45030   \n",
       "..        ...        ...                                             ...   \n",
       "88 -84.316900  39.086082     8521 Holidayhills Dr, CINCINNATI, OH, 45255   \n",
       "89 -84.616680  39.138218         3416 Lumardo Ave, CINCINNATI, OH, 45238   \n",
       "90 -84.564920  39.105946            3316 W 8th St, CINCINNATI, OH, 45205   \n",
       "91 -84.359055  39.232410          9701 Zig Zag Rd, CINCINNATI, OH, 45242   \n",
       "92 -84.554010  39.138050         1741 Bleecker Ln, CINCINNATI, OH, 45225   \n",
       "\n",
       "       3       4  \n",
       "0   2003  021201  \n",
       "1   4005  024100  \n",
       "2   3006  021506  \n",
       "3   3002  020403  \n",
       "4   4003  026101  \n",
       "..   ...     ...  \n",
       "88  1002  025102  \n",
       "89  3009  010201  \n",
       "90  3005  009300  \n",
       "91  4002  023902  \n",
       "92  4000  008601  \n",
       "\n",
       "[93 rows x 5 columns]"
      ]
     },
     "execution_count": 98,
     "metadata": {},
     "output_type": "execute_result"
    }
   ],
   "source": [
    "out1"
   ]
  },
  {
   "cell_type": "code",
   "execution_count": 99,
   "metadata": {},
   "outputs": [
    {
     "data": {
      "text/html": [
       "<div>\n",
       "<style scoped>\n",
       "    .dataframe tbody tr th:only-of-type {\n",
       "        vertical-align: middle;\n",
       "    }\n",
       "\n",
       "    .dataframe tbody tr th {\n",
       "        vertical-align: top;\n",
       "    }\n",
       "\n",
       "    .dataframe thead th {\n",
       "        text-align: right;\n",
       "    }\n",
       "</style>\n",
       "<table border=\"1\" class=\"dataframe\">\n",
       "  <thead>\n",
       "    <tr style=\"text-align: right;\">\n",
       "      <th></th>\n",
       "    </tr>\n",
       "  </thead>\n",
       "  <tbody>\n",
       "  </tbody>\n",
       "</table>\n",
       "</div>"
      ],
      "text/plain": [
       "Empty DataFrame\n",
       "Columns: []\n",
       "Index: []"
      ]
     },
     "execution_count": 99,
     "metadata": {},
     "output_type": "execute_result"
    }
   ],
   "source": [
    "error1\n",
    "#so error catching is sitll a work in progress, but I can run this and match what I can\n",
    "#then generate a list of everything that didn't code at the end"
   ]
  },
  {
   "cell_type": "code",
   "execution_count": 100,
   "metadata": {},
   "outputs": [
    {
     "data": {
      "text/plain": [
       "238280"
      ]
     },
     "execution_count": 100,
     "metadata": {},
     "output_type": "execute_result"
    }
   ],
   "source": [
    "len(a_list)\n",
    "#my current function takes forever to run, so I'm going to work from a small sample for proof of concept"
   ]
  },
  {
   "cell_type": "code",
   "execution_count": 123,
   "metadata": {},
   "outputs": [
    {
     "data": {
      "text/html": [
       "<div>\n",
       "<style scoped>\n",
       "    .dataframe tbody tr th:only-of-type {\n",
       "        vertical-align: middle;\n",
       "    }\n",
       "\n",
       "    .dataframe tbody tr th {\n",
       "        vertical-align: top;\n",
       "    }\n",
       "\n",
       "    .dataframe thead th {\n",
       "        text-align: right;\n",
       "    }\n",
       "</style>\n",
       "<table border=\"1\" class=\"dataframe\">\n",
       "  <thead>\n",
       "    <tr style=\"text-align: right;\">\n",
       "      <th></th>\n",
       "      <th>SOS_VOTERID</th>\n",
       "      <th>RESIDENTIAL_ADDRESS1</th>\n",
       "      <th>RESIDENTIAL_CITY</th>\n",
       "      <th>RESIDENTIAL_STATE</th>\n",
       "      <th>RESIDENTIAL_ZIP</th>\n",
       "      <th>PRIMARY-03/15/2016</th>\n",
       "      <th>GENERAL-11/08/2016</th>\n",
       "    </tr>\n",
       "  </thead>\n",
       "  <tbody>\n",
       "    <tr>\n",
       "      <td>307511</td>\n",
       "      <td>OH0024178584</td>\n",
       "      <td>3228 BERWYN PL</td>\n",
       "      <td>CINCINNATI</td>\n",
       "      <td>OH</td>\n",
       "      <td>45209</td>\n",
       "      <td>R</td>\n",
       "      <td>NaN</td>\n",
       "    </tr>\n",
       "    <tr>\n",
       "      <td>85535</td>\n",
       "      <td>OH0013709625</td>\n",
       "      <td>1717 FERNWOOD ST</td>\n",
       "      <td>CINCINNATI</td>\n",
       "      <td>OH</td>\n",
       "      <td>45206</td>\n",
       "      <td>R</td>\n",
       "      <td>NaN</td>\n",
       "    </tr>\n",
       "    <tr>\n",
       "      <td>502348</td>\n",
       "      <td>OH0024705077</td>\n",
       "      <td>3731 WOODLAND AVE</td>\n",
       "      <td>CINCINNATI</td>\n",
       "      <td>OH</td>\n",
       "      <td>45209</td>\n",
       "      <td>R</td>\n",
       "      <td>NaN</td>\n",
       "    </tr>\n",
       "    <tr>\n",
       "      <td>125756</td>\n",
       "      <td>OH0013738913</td>\n",
       "      <td>838 OAK CANYON DR</td>\n",
       "      <td>LOVELAND</td>\n",
       "      <td>OH</td>\n",
       "      <td>45140</td>\n",
       "      <td>R</td>\n",
       "      <td>NaN</td>\n",
       "    </tr>\n",
       "    <tr>\n",
       "      <td>66682</td>\n",
       "      <td>OH0022516459</td>\n",
       "      <td>3018 KINMONT ST</td>\n",
       "      <td>CINCINNATI</td>\n",
       "      <td>OH</td>\n",
       "      <td>45208</td>\n",
       "      <td>R</td>\n",
       "      <td>NaN</td>\n",
       "    </tr>\n",
       "  </tbody>\n",
       "</table>\n",
       "</div>"
      ],
      "text/plain": [
       "         SOS_VOTERID RESIDENTIAL_ADDRESS1 RESIDENTIAL_CITY RESIDENTIAL_STATE  \\\n",
       "307511  OH0024178584       3228 BERWYN PL       CINCINNATI                OH   \n",
       "85535   OH0013709625     1717 FERNWOOD ST       CINCINNATI                OH   \n",
       "502348  OH0024705077    3731 WOODLAND AVE       CINCINNATI                OH   \n",
       "125756  OH0013738913    838 OAK CANYON DR         LOVELAND                OH   \n",
       "66682   OH0022516459      3018 KINMONT ST       CINCINNATI                OH   \n",
       "\n",
       "        RESIDENTIAL_ZIP PRIMARY-03/15/2016 GENERAL-11/08/2016  \n",
       "307511            45209                  R                NaN  \n",
       "85535             45206                  R                NaN  \n",
       "502348            45209                  R                NaN  \n",
       "125756            45140                  R                NaN  \n",
       "66682             45208                  R                NaN  "
      ]
     },
     "execution_count": 123,
     "metadata": {},
     "output_type": "execute_result"
    }
   ],
   "source": [
    "geocoding_columns = ['SOS_VOTERID', 'RESIDENTIAL_ADDRESS1', 'RESIDENTIAL_CITY',\n",
    " 'RESIDENTIAL_STATE', 'RESIDENTIAL_ZIP', 'PRIMARY-03/15/2016', 'GENERAL-11/08/2016']\n",
    "\n",
    "geocode_subset = hc_full[geocoding_columns]\n",
    "gc_working=geocode_subset[geocode_subset['PRIMARY-03/15/2016'].notna()]\n",
    "gc_working=gc_working[gc_working['GENERAL-11/08/2016'].isna()]\n",
    "gc_sample = gc_working.sample(n=500, random_state=42)\n",
    "gc_sample.head()"
   ]
  },
  {
   "cell_type": "code",
   "execution_count": 127,
   "metadata": {},
   "outputs": [],
   "source": [
    "#copy paste code above\n",
    "gc_sample['API_STRING']='street='+gc_sample['RESIDENTIAL_ADDRESS1']+'&city='+gc_sample['RESIDENTIAL_CITY']+'&state='+gc_sample['RESIDENTIAL_STATE']+'&zip='+gc_sample['RESIDENTIAL_ZIP'].astype(str)\n",
    "gc_sample['API_NOSPACE']=gc_sample['API_STRING'].str.replace(\" \", \"+\")"
   ]
  },
  {
   "cell_type": "code",
   "execution_count": 128,
   "metadata": {},
   "outputs": [
    {
     "data": {
      "text/plain": [
       "500"
      ]
     },
     "execution_count": 128,
     "metadata": {},
     "output_type": "execute_result"
    }
   ],
   "source": [
    "a_list = gc_sample['API_NOSPACE'].to_list()\n",
    "len(a_list)"
   ]
  },
  {
   "cell_type": "code",
   "execution_count": 129,
   "metadata": {},
   "outputs": [],
   "source": [
    "out1, error1 = geocoder(a_list)"
   ]
  },
  {
   "cell_type": "code",
   "execution_count": 130,
   "metadata": {},
   "outputs": [
    {
     "data": {
      "text/html": [
       "<div>\n",
       "<style scoped>\n",
       "    .dataframe tbody tr th:only-of-type {\n",
       "        vertical-align: middle;\n",
       "    }\n",
       "\n",
       "    .dataframe tbody tr th {\n",
       "        vertical-align: top;\n",
       "    }\n",
       "\n",
       "    .dataframe thead th {\n",
       "        text-align: right;\n",
       "    }\n",
       "</style>\n",
       "<table border=\"1\" class=\"dataframe\">\n",
       "  <thead>\n",
       "    <tr style=\"text-align: right;\">\n",
       "      <th></th>\n",
       "      <th>0</th>\n",
       "      <th>1</th>\n",
       "      <th>2</th>\n",
       "      <th>3</th>\n",
       "      <th>4</th>\n",
       "    </tr>\n",
       "  </thead>\n",
       "  <tbody>\n",
       "    <tr>\n",
       "      <td>0</td>\n",
       "      <td>-84.425270</td>\n",
       "      <td>39.151750</td>\n",
       "      <td>3228 Berwyn Pl, CINCINNATI, OH, 45209</td>\n",
       "      <td>2017</td>\n",
       "      <td>005301</td>\n",
       "    </tr>\n",
       "    <tr>\n",
       "      <td>1</td>\n",
       "      <td>-84.474525</td>\n",
       "      <td>39.130585</td>\n",
       "      <td>1717 Fernwood St, CINCINNATI, OH, 45206</td>\n",
       "      <td>2009</td>\n",
       "      <td>004100</td>\n",
       "    </tr>\n",
       "    <tr>\n",
       "      <td>2</td>\n",
       "      <td>-84.439354</td>\n",
       "      <td>39.145546</td>\n",
       "      <td>3731 Woodland Ave, CINCINNATI, OH, 45209</td>\n",
       "      <td>3007</td>\n",
       "      <td>005200</td>\n",
       "    </tr>\n",
       "    <tr>\n",
       "      <td>3</td>\n",
       "      <td>-84.291790</td>\n",
       "      <td>39.260227</td>\n",
       "      <td>838 Oak Canyon Dr, LOVELAND, OH, 45140</td>\n",
       "      <td>1004</td>\n",
       "      <td>024322</td>\n",
       "    </tr>\n",
       "    <tr>\n",
       "      <td>4</td>\n",
       "      <td>-84.431046</td>\n",
       "      <td>39.130985</td>\n",
       "      <td>3018 Kinmont St, CINCINNATI, OH, 45208</td>\n",
       "      <td>2007</td>\n",
       "      <td>004900</td>\n",
       "    </tr>\n",
       "    <tr>\n",
       "      <td>...</td>\n",
       "      <td>...</td>\n",
       "      <td>...</td>\n",
       "      <td>...</td>\n",
       "      <td>...</td>\n",
       "      <td>...</td>\n",
       "    </tr>\n",
       "    <tr>\n",
       "      <td>479</td>\n",
       "      <td>-84.487890</td>\n",
       "      <td>39.122055</td>\n",
       "      <td>1023 Windsor St, CINCINNATI, OH, 45206</td>\n",
       "      <td>2006</td>\n",
       "      <td>002000</td>\n",
       "    </tr>\n",
       "    <tr>\n",
       "      <td>480</td>\n",
       "      <td>-84.554280</td>\n",
       "      <td>39.167450</td>\n",
       "      <td>4510 Colerain Ave, CINCINNATI, OH, 45223</td>\n",
       "      <td>2000</td>\n",
       "      <td>007900</td>\n",
       "    </tr>\n",
       "    <tr>\n",
       "      <td>481</td>\n",
       "      <td>-84.587380</td>\n",
       "      <td>39.138622</td>\n",
       "      <td>2615 Fleetwood Ave, CINCINNATI, OH, 45211</td>\n",
       "      <td>1000</td>\n",
       "      <td>010003</td>\n",
       "    </tr>\n",
       "    <tr>\n",
       "      <td>482</td>\n",
       "      <td>-84.470660</td>\n",
       "      <td>39.236897</td>\n",
       "      <td>22 Chestnut Ave, CINCINNATI, OH, 45215</td>\n",
       "      <td>1005</td>\n",
       "      <td>022602</td>\n",
       "    </tr>\n",
       "    <tr>\n",
       "      <td>483</td>\n",
       "      <td>-84.639050</td>\n",
       "      <td>39.098255</td>\n",
       "      <td>5777 Harvey Cir, CINCINNATI, OH, 45233</td>\n",
       "      <td>1004</td>\n",
       "      <td>021302</td>\n",
       "    </tr>\n",
       "  </tbody>\n",
       "</table>\n",
       "<p>484 rows × 5 columns</p>\n",
       "</div>"
      ],
      "text/plain": [
       "             0          1                                          2     3  \\\n",
       "0   -84.425270  39.151750      3228 Berwyn Pl, CINCINNATI, OH, 45209  2017   \n",
       "1   -84.474525  39.130585    1717 Fernwood St, CINCINNATI, OH, 45206  2009   \n",
       "2   -84.439354  39.145546   3731 Woodland Ave, CINCINNATI, OH, 45209  3007   \n",
       "3   -84.291790  39.260227     838 Oak Canyon Dr, LOVELAND, OH, 45140  1004   \n",
       "4   -84.431046  39.130985     3018 Kinmont St, CINCINNATI, OH, 45208  2007   \n",
       "..         ...        ...                                        ...   ...   \n",
       "479 -84.487890  39.122055     1023 Windsor St, CINCINNATI, OH, 45206  2006   \n",
       "480 -84.554280  39.167450   4510 Colerain Ave, CINCINNATI, OH, 45223  2000   \n",
       "481 -84.587380  39.138622  2615 Fleetwood Ave, CINCINNATI, OH, 45211  1000   \n",
       "482 -84.470660  39.236897     22 Chestnut Ave, CINCINNATI, OH, 45215  1005   \n",
       "483 -84.639050  39.098255     5777 Harvey Cir, CINCINNATI, OH, 45233  1004   \n",
       "\n",
       "          4  \n",
       "0    005301  \n",
       "1    004100  \n",
       "2    005200  \n",
       "3    024322  \n",
       "4    004900  \n",
       "..      ...  \n",
       "479  002000  \n",
       "480  007900  \n",
       "481  010003  \n",
       "482  022602  \n",
       "483  021302  \n",
       "\n",
       "[484 rows x 5 columns]"
      ]
     },
     "execution_count": 130,
     "metadata": {},
     "output_type": "execute_result"
    }
   ],
   "source": [
    "out1"
   ]
  },
  {
   "cell_type": "code",
   "execution_count": 131,
   "metadata": {},
   "outputs": [],
   "source": [
    "#Export data as csv\n",
    "out1.to_csv('geocoded.csv',index=False)"
   ]
  },
  {
   "cell_type": "code",
   "execution_count": null,
   "metadata": {},
   "outputs": [],
   "source": []
  }
 ],
 "metadata": {
  "kernelspec": {
   "display_name": "Python 3",
   "language": "python",
   "name": "python3"
  },
  "language_info": {
   "codemirror_mode": {
    "name": "ipython",
    "version": 3
   },
   "file_extension": ".py",
   "mimetype": "text/x-python",
   "name": "python",
   "nbconvert_exporter": "python",
   "pygments_lexer": "ipython3",
   "version": "3.7.4"
  }
 },
 "nbformat": 4,
 "nbformat_minor": 2
}
